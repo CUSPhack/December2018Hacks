{
 "cells": [
  {
   "cell_type": "code",
   "execution_count": 2,
   "metadata": {},
   "outputs": [],
   "source": [
    "import os"
   ]
  },
  {
   "cell_type": "code",
   "execution_count": 3,
   "metadata": {},
   "outputs": [
    {
     "name": "stdout",
     "output_type": "stream",
     "text": [
      "PUIDATA: /nfshome/pmb434/PUIdata\n"
     ]
    }
   ],
   "source": [
    "puidata = os.getenv(\"PUIDATA\")\n",
    "if puidata is None:\n",
    "    os.environ[\"PUIDATA\"] = \"{}/data/PUIdata\".format(os.getenv(\"HOME\"))\n",
    "    puidata = os.getenv(\"PUIDATA\")\n",
    "    print(\"Warning: PUIDATA environmental variable not found and set by code, please review!\")\n",
    "print(\"PUIDATA: {}\".format(puidata))"
   ]
  },
  {
   "cell_type": "code",
   "execution_count": 4,
   "metadata": {},
   "outputs": [],
   "source": [
    "#Set date and download\n",
    "def getTaxiData(year, month):\n",
    "    #Check file\n",
    "    filename = 'yellow_tripdata_' + year + '-' + month + '.csv'\n",
    "    if not os.path.isfile(puidata + '/' + filename):\n",
    "        print (\"Downloading file\") \n",
    "        os.system(\"curl -O https://s3.amazonaws.com/nyc-tlc/trip+data/\" + filename)\n",
    "        os.system(\"mv \" + filename + \" \" + puidata)\n",
    "\n",
    "    # Check:\n",
    "    if not os.path.isfile(puidata + '/' + filename):\n",
    "        print (\"WARNING!!! Something is wrong: the file is not there!\")\n",
    "\n",
    "    else:\n",
    "        print (filename + \" in place, you can continue\")"
   ]
  },
  {
   "cell_type": "code",
   "execution_count": 5,
   "metadata": {},
   "outputs": [
    {
     "name": "stdout",
     "output_type": "stream",
     "text": [
      "Downloading file\n",
      "yellow_tripdata_2018-01.csv in place, you can continue\n",
      "Downloading file\n",
      "yellow_tripdata_2018-02.csv in place, you can continue\n",
      "Downloading file\n",
      "yellow_tripdata_2018-03.csv in place, you can continue\n",
      "Downloading file\n",
      "yellow_tripdata_2018-04.csv in place, you can continue\n",
      "Downloading file\n",
      "yellow_tripdata_2018-05.csv in place, you can continue\n",
      "Downloading file\n",
      "yellow_tripdata_2018-06.csv in place, you can continue\n"
     ]
    }
   ],
   "source": [
    "for y in range(2018, 2019):\n",
    "    for m in range(1,7):\n",
    "        month = str(m) if len(str(m)) == 2 else '0' + str(m)\n",
    "        getTaxiData(str(y), month)\n",
    "        #print(str(y) + '-' + month)"
   ]
  },
  {
   "cell_type": "code",
   "execution_count": null,
   "metadata": {},
   "outputs": [],
   "source": []
  }
 ],
 "metadata": {
  "kernelspec": {
   "display_name": "PUI2016_Python3",
   "language": "python",
   "name": "pui2016_python3"
  },
  "language_info": {
   "codemirror_mode": {
    "name": "ipython",
    "version": 3
   },
   "file_extension": ".py",
   "mimetype": "text/x-python",
   "name": "python",
   "nbconvert_exporter": "python",
   "pygments_lexer": "ipython3",
   "version": "3.5.4"
  }
 },
 "nbformat": 4,
 "nbformat_minor": 2
}
